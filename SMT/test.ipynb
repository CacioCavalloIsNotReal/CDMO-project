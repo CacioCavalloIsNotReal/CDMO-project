{
 "cells": [
  {
   "cell_type": "code",
   "execution_count": 1,
   "id": "c859029d",
   "metadata": {},
   "outputs": [],
   "source": [
    "from smt_model import solve_mcp_smt\n",
    "from mip_utils import parse_instance"
   ]
  },
  {
   "cell_type": "code",
   "execution_count": 2,
   "id": "6ea8b56e",
   "metadata": {},
   "outputs": [],
   "source": [
    "instance = parse_instance(\"/Users/giacomopiergentili/Developer/CDMO/project-final/CDMO-project/instances/inst07.dat\")"
   ]
  },
  {
   "cell_type": "code",
   "execution_count": 3,
   "id": "4c1baa96",
   "metadata": {},
   "outputs": [
    {
     "name": "stdout",
     "output_type": "stream",
     "text": [
      "Starting Z3 Optimize check (Timeout: 300s, Symmetry: False)...\n",
      "  UNKNOWN (Z3 Optimize timed out or encountered an issue)\n"
     ]
    }
   ],
   "source": [
    "solution = solve_mcp_smt(instance)"
   ]
  },
  {
   "cell_type": "code",
   "execution_count": 4,
   "id": "0bfb6c1d",
   "metadata": {},
   "outputs": [
    {
     "data": {
      "text/plain": [
       "{'time': 1, 'optimal': False, 'obj': -1, 'sol': [[], [], [], [], [], []]}"
      ]
     },
     "execution_count": 4,
     "metadata": {},
     "output_type": "execute_result"
    }
   ],
   "source": [
    "solution"
   ]
  },
  {
   "cell_type": "code",
   "execution_count": null,
   "id": "0f63e858",
   "metadata": {},
   "outputs": [],
   "source": []
  }
 ],
 "metadata": {
  "kernelspec": {
   "display_name": "environment",
   "language": "python",
   "name": "python3"
  },
  "language_info": {
   "codemirror_mode": {
    "name": "ipython",
    "version": 3
   },
   "file_extension": ".py",
   "mimetype": "text/x-python",
   "name": "python",
   "nbconvert_exporter": "python",
   "pygments_lexer": "ipython3",
   "version": "3.11.8"
  }
 },
 "nbformat": 4,
 "nbformat_minor": 5
}
